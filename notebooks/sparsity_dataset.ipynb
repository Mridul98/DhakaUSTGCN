{
 "cells": [
  {
   "cell_type": "code",
   "execution_count": 22,
   "id": "bdf13854-f8ae-4400-b8e7-83fc2e7320d2",
   "metadata": {},
   "outputs": [],
   "source": [
    "import pandas as pd\n",
    "import numpy as np\n"
   ]
  },
  {
   "cell_type": "code",
   "execution_count": 6,
   "id": "ccc65d66-e70b-4f1e-b8b4-b55ac4f484ce",
   "metadata": {},
   "outputs": [],
   "source": [
    "nov = pd.read_csv('datasets/november_final.csv',low_memory = False)\n",
    "dec = pd.read_csv('datasets/december_final.csv', low_memory = False)\n",
    "jan = pd.read_csv('datasets/january_2020_final.csv', low_memory = False)"
   ]
  },
  {
   "cell_type": "code",
   "execution_count": 37,
   "id": "7786b7ac-1440-4507-8f19-87d6938a2f80",
   "metadata": {},
   "outputs": [
    {
     "data": {
      "text/plain": [
       "(154, 64800)"
      ]
     },
     "execution_count": 37,
     "metadata": {},
     "output_type": "execute_result"
    }
   ],
   "source": [
    "nov[nov.columns[1:]].shape"
   ]
  },
  {
   "cell_type": "code",
   "execution_count": 38,
   "id": "6aafb062-a80b-4fa0-bc12-c8c8c13277c1",
   "metadata": {},
   "outputs": [
    {
     "data": {
      "text/plain": [
       "(154, 66960)"
      ]
     },
     "execution_count": 38,
     "metadata": {},
     "output_type": "execute_result"
    }
   ],
   "source": [
    "dec[dec.columns[1:]].shape"
   ]
  },
  {
   "cell_type": "code",
   "execution_count": 39,
   "id": "93bae8e1-20e9-49c4-b227-1bb733fbf32f",
   "metadata": {},
   "outputs": [
    {
     "data": {
      "text/plain": [
       "(154, 66960)"
      ]
     },
     "execution_count": 39,
     "metadata": {},
     "output_type": "execute_result"
    }
   ],
   "source": [
    "jan[jan.columns[1:]].shape"
   ]
  },
  {
   "cell_type": "code",
   "execution_count": 26,
   "id": "567547bb-846e-4871-b7ce-7c7bc23ca49a",
   "metadata": {},
   "outputs": [
    {
     "data": {
      "text/plain": [
       "(154, 64800)"
      ]
     },
     "execution_count": 26,
     "metadata": {},
     "output_type": "execute_result"
    }
   ],
   "source": [
    "nov[nov.columns[1:]].to_numpy().shape"
   ]
  },
  {
   "cell_type": "code",
   "execution_count": 31,
   "id": "182e0ec5-030f-4da7-9866-d47ac3011732",
   "metadata": {},
   "outputs": [],
   "source": [
    "def get_sparsity(dataframe):\n",
    "    \n",
    "    np_array = dataframe[dataframe.columns[1:]].to_numpy()\n",
    "    total_nonzero = np.count_nonzero(np_array)\n",
    "    total_elem = np_array.size\n",
    "    \n",
    "    return 1 - (total_nonzero/total_elem)\n",
    "    "
   ]
  },
  {
   "cell_type": "code",
   "execution_count": 32,
   "id": "03ee4ace-e620-405a-97ef-4de4daf111cc",
   "metadata": {},
   "outputs": [],
   "source": [
    "nov_sparsity = get_sparsity(nov)\n",
    "dec_sparsity = get_sparsity(dec)\n",
    "jan_sparsity = get_sparsity(jan)\n"
   ]
  },
  {
   "cell_type": "code",
   "execution_count": 33,
   "id": "23f98fdb-fd3c-4d58-a854-05b00b737e0f",
   "metadata": {},
   "outputs": [
    {
     "data": {
      "text/plain": [
       "0.7568158770242104"
      ]
     },
     "execution_count": 33,
     "metadata": {},
     "output_type": "execute_result"
    }
   ],
   "source": [
    "nov_sparsity"
   ]
  },
  {
   "cell_type": "code",
   "execution_count": 34,
   "id": "0b670494-1657-4be8-b854-30f4c93bff94",
   "metadata": {},
   "outputs": [
    {
     "data": {
      "text/plain": [
       "0.59117587161942"
      ]
     },
     "execution_count": 34,
     "metadata": {},
     "output_type": "execute_result"
    }
   ],
   "source": [
    "dec_sparsity"
   ]
  },
  {
   "cell_type": "code",
   "execution_count": 35,
   "id": "65116970-0237-402f-b7fb-839207709703",
   "metadata": {},
   "outputs": [
    {
     "data": {
      "text/plain": [
       "0.5526483149467021"
      ]
     },
     "execution_count": 35,
     "metadata": {},
     "output_type": "execute_result"
    }
   ],
   "source": [
    "jan_sparsity"
   ]
  },
  {
   "cell_type": "code",
   "execution_count": null,
   "id": "aaca8748-415b-4a2e-9c85-9d822a508251",
   "metadata": {},
   "outputs": [],
   "source": []
  }
 ],
 "metadata": {
  "kernelspec": {
   "display_name": "Python 3",
   "language": "python",
   "name": "python3"
  },
  "language_info": {
   "codemirror_mode": {
    "name": "ipython",
    "version": 3
   },
   "file_extension": ".py",
   "mimetype": "text/x-python",
   "name": "python",
   "nbconvert_exporter": "python",
   "pygments_lexer": "ipython3",
   "version": "3.8.8"
  }
 },
 "nbformat": 4,
 "nbformat_minor": 5
}
